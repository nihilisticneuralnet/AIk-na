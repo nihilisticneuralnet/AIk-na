{
 "cells": [
  {
   "cell_type": "code",
   "execution_count": 3,
   "metadata": {
    "execution": {
     "iopub.execute_input": "2025-02-23T01:37:54.727819Z",
     "iopub.status.busy": "2025-02-23T01:37:54.727399Z",
     "iopub.status.idle": "2025-02-23T01:37:58.625607Z",
     "shell.execute_reply": "2025-02-23T01:37:58.624555Z",
     "shell.execute_reply.started": "2025-02-23T01:37:54.727788Z"
    },
    "trusted": true
   },
   "outputs": [
    {
     "name": "stdout",
     "output_type": "stream",
     "text": [
      "Collecting deep_translator\n",
      "  Downloading deep_translator-1.11.4-py3-none-any.whl.metadata (30 kB)\n",
      "Requirement already satisfied: beautifulsoup4<5.0.0,>=4.9.1 in /usr/local/lib/python3.10/dist-packages (from deep_translator) (4.12.3)\n",
      "Requirement already satisfied: requests<3.0.0,>=2.23.0 in /usr/local/lib/python3.10/dist-packages (from deep_translator) (2.32.3)\n",
      "Requirement already satisfied: soupsieve>1.2 in /usr/local/lib/python3.10/dist-packages (from beautifulsoup4<5.0.0,>=4.9.1->deep_translator) (2.6)\n",
      "Requirement already satisfied: charset-normalizer<4,>=2 in /usr/local/lib/python3.10/dist-packages (from requests<3.0.0,>=2.23.0->deep_translator) (3.4.1)\n",
      "Requirement already satisfied: idna<4,>=2.5 in /usr/local/lib/python3.10/dist-packages (from requests<3.0.0,>=2.23.0->deep_translator) (3.10)\n",
      "Requirement already satisfied: urllib3<3,>=1.21.1 in /usr/local/lib/python3.10/dist-packages (from requests<3.0.0,>=2.23.0->deep_translator) (2.3.0)\n",
      "Requirement already satisfied: certifi>=2017.4.17 in /usr/local/lib/python3.10/dist-packages (from requests<3.0.0,>=2.23.0->deep_translator) (2025.1.31)\n",
      "Downloading deep_translator-1.11.4-py3-none-any.whl (42 kB)\n",
      "\u001b[2K   \u001b[90m━━━━━━━━━━━━━━━━━━━━━━━━━━━━━━━━━━━━━━━━\u001b[0m \u001b[32m42.3/42.3 kB\u001b[0m \u001b[31m1.9 MB/s\u001b[0m eta \u001b[36m0:00:00\u001b[0m\n",
      "\u001b[?25hInstalling collected packages: deep_translator\n",
      "Successfully installed deep_translator-1.11.4\n"
     ]
    }
   ],
   "source": [
    "!pip install deep_translator "
   ]
  },
  {
   "cell_type": "code",
   "execution_count": 11,
   "metadata": {
    "execution": {
     "iopub.execute_input": "2025-02-23T01:43:41.378445Z",
     "iopub.status.busy": "2025-02-23T01:43:41.378101Z",
     "iopub.status.idle": "2025-02-23T01:43:41.382555Z",
     "shell.execute_reply": "2025-02-23T01:43:41.381595Z",
     "shell.execute_reply.started": "2025-02-23T01:43:41.378419Z"
    },
    "trusted": true
   },
   "outputs": [],
   "source": [
    "import os\n",
    "os.environ[\"HF_TOKEN\"] = \"\""
   ]
  },
  {
   "cell_type": "code",
   "execution_count": null,
   "metadata": {
    "trusted": true
   },
   "outputs": [],
   "source": [
    "import torch\n",
    "import os\n",
    "import requests\n",
    "import torchaudio\n",
    "from transformers import pipeline, AutoProcessor, VitsModel\n",
    "from deep_translator import GoogleTranslator\n",
    "from transformers.pipelines.audio_utils import ffmpeg_microphone_live\n",
    "from threading import Thread\n",
    "from queue import Queue\n",
    "from IPython.display import Audio\n",
    "import numpy as np"
   ]
  },
  {
   "cell_type": "code",
   "execution_count": null,
   "metadata": {
    "trusted": true
   },
   "outputs": [],
   "source": [
    "device = \"cuda:0\" if torch.cuda.is_available() else \"cpu\"\n",
    "\n",
    "classifier = pipeline(\"audio-classification\", model=\"MIT/ast-finetuned-speech-commands-v2\", device=device)\n",
    "transcriber = pipeline(\"automatic-speech-recognition\", model=\"openai/whisper-small\", device=device)\n",
    "processor = AutoProcessor.from_pretrained(\"facebook/mms-tts-mar\")\n",
    "model = VitsModel.from_pretrained(\"facebook/mms-tts-mar\").to(device)\n"
   ]
  },
  {
   "cell_type": "code",
   "execution_count": null,
   "metadata": {
    "trusted": true
   },
   "outputs": [],
   "source": [
    "def transcribe_audio_from_wav(wav_file):\n",
    "    waveform, sample_rate = torchaudio.load(wav_file)\n",
    "    waveform = waveform.squeeze(0).numpy()  \n",
    "    transcription = transcriber(waveform,  generate_kwargs={\"max_new_tokens\": 64})\n",
    "    print(transcription[\"text\"])\n",
    "    return transcription[\"text\"]"
   ]
  },
  {
   "cell_type": "code",
   "execution_count": null,
   "metadata": {
    "trusted": true
   },
   "outputs": [],
   "source": [
    "def query_model(text, model_id=\"mistralai/Mistral-7B-Instruct-v0.1\"):\n",
    "    api_url = f\"https://api-inference.huggingface.co/models/{model_id}\"\n",
    "    headers = {\"Authorization\": f\"Bearer {os.getenv('HF_TOKEN')}\"}\n",
    "    response = requests.post(api_url, headers=headers, json={\"inputs\": text})\n",
    "    print(response)\n",
    "\n",
    "    if response.status_code != 200:\n",
    "        print(f\"Error: {response.status_code}, {response.text}\")  # Debugging output\n",
    "        return \"API Error\"\n",
    "\n",
    "    try:\n",
    "        json_response = response.json()\n",
    "        if not json_response:\n",
    "            return \"No response from model\"\n",
    "        return json_response[0].get(\"generated_text\", \"No text generated\")[len(text) + 1 :]\n",
    "    except requests.exceptions.JSONDecodeError:\n",
    "        print(\"Invalid JSON response from API\")\n",
    "        return \"Invalid response\"\n",
    "\n",
    "# def query_model(text, model_id=\"mistralai/Mistral-7B-Instruct-v0.1\"):\n",
    "#     api_url = f\"https://api-inference.huggingface.co/models/{model_id}\"\n",
    "#     headers = {\"Authorization\": f\"Bearer {os.getenv('HF_TOKEN')}\"}\n",
    "#     response = requests.post(api_url, headers=headers, json={\"inputs\": text})\n",
    "#     print(response)\n",
    "#     return response.json()[0][\"generated_text\"][len(text) + 1 :]"
   ]
  },
  {
   "cell_type": "code",
   "execution_count": null,
   "metadata": {
    "trusted": true
   },
   "outputs": [],
   "source": [
    "def synthesise(text):\n",
    "    inputs = processor(text=text, return_tensors=\"pt\").to(device)\n",
    "    with torch.no_grad():\n",
    "        speech = model(input_ids=inputs[\"input_ids\"]).waveform\n",
    "    return speech.cpu()"
   ]
  },
  {
   "cell_type": "code",
   "execution_count": null,
   "metadata": {
    "trusted": true
   },
   "outputs": [],
   "source": [
    "def assistant_pipeline(wav_file):\n",
    "    transcription = transcribe_audio_from_wav(wav_file)\n",
    "    english_text = GoogleTranslator(source=\"mr\", target=\"en\").translate(transcription)\n",
    "    response_text = query_model(english_text)\n",
    "    marathi_response = GoogleTranslator(source=\"en\", target=\"mr\").translate(response_text)\n",
    "    audio = synthesise(marathi_response)\n",
    "    Audio(audio, rate=16000, autoplay=True)"
   ]
  },
  {
   "cell_type": "code",
   "execution_count": null,
   "metadata": {
    "trusted": true
   },
   "outputs": [],
   "source": [
    "if __name__ == \"__main__\":\n",
    "    wav_file_path = \"/kaggle/input/wav-exa/sample.wav\"  \n",
    "    assistant_pipeline(wav_file_path)\n"
   ]
  },
  {
   "cell_type": "code",
   "execution_count": null,
   "metadata": {
    "trusted": true
   },
   "outputs": [],
   "source": [
    "import torch\n",
    "import torchaudio\n",
    "import numpy as np\n",
    "from faster_whisper import WhisperModel\n",
    "from transformers import AutoProcessor, VitsModel\n",
    "import time\n",
    "import gc\n",
    "import os"
   ]
  },
  {
   "cell_type": "code",
   "execution_count": null,
   "metadata": {
    "trusted": true
   },
   "outputs": [],
   "source": [
    "class MarathiWavProcessor:\n",
    "    def __init__(self):\n",
    "        if torch.cuda.is_available():\n",
    "            torch.cuda.empty_cache()\n",
    "            print(f\"Initial CUDA memory allocated: {torch.cuda.memory_allocated()/1e9:.2f} GB\")\n",
    "        gc.collect()\n",
    "        \n",
    "        try:\n",
    "            import psutil\n",
    "            print(f\"Available system memory: {psutil.virtual_memory().available/1e9:.2f} GB\")\n",
    "        except ImportError:\n",
    "            print(\"psutil not installed, skipping memory check\")\n",
    "\n",
    "        total_gpu_memory = torch.cuda.get_device_properties(0).total_memory if torch.cuda.is_available() else 0\n",
    "        self.device = \"cuda\" if total_gpu_memory > 4e9 else \"cpu\"  \n",
    "        print(f\"Using device: {self.device}\")\n",
    "\n",
    "        print(\"Loading models...\")\n",
    "        try:\n",
    "            self.load_whisper()\n",
    "            \n",
    "            self.load_tts()\n",
    "            \n",
    "            print(\"Models loaded successfully!\")\n",
    "        except Exception as e:\n",
    "            print(f\"Error during model loading: {str(e)}\")\n",
    "            raise\n",
    "\n",
    "    def load_whisper(self):\n",
    "        try:\n",
    "            self.transcriber = WhisperModel(\n",
    "                \"tiny\",\n",
    "                device=self.device,\n",
    "                compute_type=\"float32\", \n",
    "                download_root=\"./models\", \n",
    "                num_workers=1  \n",
    "            )\n",
    "            print(\"Whisper model loaded\")\n",
    "        except Exception as e:\n",
    "            print(f\"Error loading Whisper model: {str(e)}\")\n",
    "            raise\n",
    "\n",
    "    def load_tts(self):\n",
    "        try:\n",
    "            self.processor = AutoProcessor.from_pretrained(\n",
    "                \"facebook/mms-tts-mar\",\n",
    "                local_files_only=False\n",
    "            )\n",
    "            self.tts_model = VitsModel.from_pretrained(\n",
    "                \"facebook/mms-tts-mar\"\n",
    "            ).to(self.device)\n",
    "            self.tts_model.eval()\n",
    "            print(\"TTS model loaded\")\n",
    "        except Exception as e:\n",
    "            print(f\"Error loading TTS model: {str(e)}\")\n",
    "            raise\n",
    "\n",
    "    def process_audio(self, audio_data, sample_rate):\n",
    "        \"\"\"Process audio data with error handling and memory management\"\"\"\n",
    "        try:\n",
    "            # Resample if needed\n",
    "            if sample_rate != 16000:\n",
    "                resampler = torchaudio.transforms.Resample(sample_rate, 16000)\n",
    "                audio_data = resampler(audio_data)\n",
    "                sample_rate = 16000\n",
    "\n",
    "            # Convert to mono if stereo\n",
    "            if audio_data.shape[0] > 1:\n",
    "                audio_data = torch.mean(audio_data, dim=0, keepdim=True)\n",
    "\n",
    "            # Convert to numpy and normalize\n",
    "            audio_np = audio_data.numpy().flatten()\n",
    "            audio_np = audio_np / np.max(np.abs(audio_np))\n",
    "\n",
    "            return audio_np, sample_rate\n",
    "        except Exception as e:\n",
    "            print(f\"Error processing audio: {str(e)}\")\n",
    "            raise\n",
    "\n",
    "    def process_wav(self, wav_path):\n",
    "        print(f\"Processing {wav_path}\")\n",
    "        start_time = time.time()\n",
    "\n",
    "        try:\n",
    "            if not os.path.exists(wav_path):\n",
    "                raise FileNotFoundError(f\"Audio file not found: {wav_path}\")\n",
    "            \n",
    "            audio_data, sample_rate = torchaudio.load(wav_path)\n",
    "            print(f\"Loaded audio: {audio_data.shape}, {sample_rate}Hz\")\n",
    "\n",
    "            audio_np, sample_rate = self.process_audio(audio_data, sample_rate)\n",
    "            \n",
    "            del audio_data\n",
    "            if torch.cuda.is_available():\n",
    "                torch.cuda.empty_cache()\n",
    "            gc.collect()\n",
    "\n",
    "            print(\"Transcribing...\")\n",
    "            try:\n",
    "                segments, _ = self.transcriber.transcribe(\n",
    "                    audio_np,\n",
    "                    language=\"mr\",\n",
    "                    beam_size=1,  # Reduce beam size\n",
    "                    vad_filter=True,  # Filter out non-speech\n",
    "                    initial_prompt=\"मराठी\" \n",
    "                )\n",
    "                transcription = \" \".join([segment.text for segment in segments])\n",
    "                print(f\"Transcription: {transcription}\")\n",
    "            except Exception as e:\n",
    "                print(f\"Transcription error: {str(e)}\")\n",
    "                raise\n",
    "\n",
    "            response = \"तुम्ही म्हणालात: \" + transcription\n",
    "            print(f\"Response: {response}\")\n",
    "\n",
    "            print(\"Synthesizing speech...\")\n",
    "            try:\n",
    "                with torch.no_grad():\n",
    "                    inputs = self.processor(text=response, return_tensors=\"pt\")\n",
    "                    speech = self.tts_model(\n",
    "                        input_ids=inputs[\"input_ids\"].to(self.device)\n",
    "                    ).waveform\n",
    "            except Exception as e:\n",
    "                print(f\"Speech synthesis error: {str(e)}\")\n",
    "                raise\n",
    "\n",
    "            output_path = \"response.wav\"\n",
    "            torchaudio.save(output_path, speech.cpu(), 16000)\n",
    "            \n",
    "            del speech\n",
    "            if torch.cuda.is_available():\n",
    "                torch.cuda.empty_cache()\n",
    "            gc.collect()\n",
    "\n",
    "            end_time = time.time()\n",
    "            print(f\"Total processing time: {end_time - start_time:.2f} seconds\")\n",
    "            return output_path\n",
    "\n",
    "        except Exception as e:\n",
    "            print(f\"Error in process_wav: {str(e)}\")\n",
    "            raise"
   ]
  },
  {
   "cell_type": "code",
   "execution_count": null,
   "metadata": {
    "execution": {
     "execution_failed": "2025-02-23T01:27:02.399Z",
     "iopub.execute_input": "2025-02-23T01:26:51.924455Z",
     "iopub.status.busy": "2025-02-23T01:26:51.924097Z"
    },
    "trusted": true
   },
   "outputs": [
    {
     "name": "stdout",
     "output_type": "stream",
     "text": [
      "Initial CUDA memory allocated: 0.00 GB\n",
      "Available system memory: 31.46 GB\n",
      "Using device: cuda\n",
      "Loading models...\n",
      "Whisper model loaded\n",
      "TTS model loaded\n",
      "Models loaded successfully!\n",
      "Processing /kaggle/input/wav-exa/sample.wav\n",
      "Loaded audio: torch.Size([1, 142848]), 48000Hz\n"
     ]
    }
   ],
   "source": [
    "try:\n",
    "    processor = MarathiWavProcessor()\n",
    "    output_file = processor.process_wav(\"/kaggle/input/wav-exa/sample.wav\")\n",
    "    print(f\"Response saved to: {output_file}\")\n",
    "except Exception as e:\n",
    "    print(f\"Main execution error: {str(e)}\")"
   ]
  },
  {
   "cell_type": "code",
   "execution_count": null,
   "metadata": {
    "trusted": true
   },
   "outputs": [],
   "source": [
    "import torch\n",
    "import torchaudio\n",
    "from faster_whisper import WhisperModel\n",
    "from transformers import AutoProcessor, VitsModel\n",
    "import time\n",
    "\n",
    "class MarathiWavProcessor:\n",
    "    def __init__(self):\n",
    "        self.device = \"cuda\" if torch.cuda.is_available() else \"cpu\"\n",
    "        print(\"Loading models...\")\n",
    "        \n",
    "        self.transcriber = WhisperModel(\n",
    "            \"tiny\",\n",
    "            device=self.device,\n",
    "            compute_type=\"float16\" if torch.cuda.is_available() else \"float32\"\n",
    "        )\n",
    "        \n",
    "        self.processor = AutoProcessor.from_pretrained(\"facebook/mms-tts-mar\")\n",
    "        self.tts_model = VitsModel.from_pretrained(\"facebook/mms-tts-mar\").to(self.device)\n",
    "        self.tts_model.eval()\n",
    "        \n",
    "        print(\"Models loaded!\")\n",
    "\n",
    "    def process_wav(self, wav_path):\n",
    "        print(f\"Processing {wav_path}\")\n",
    "        start_time = time.time()\n",
    "        \n",
    "        print(\"Transcribing...\")\n",
    "        segments, _ = self.transcriber.transcribe(wav_path, language=\"mr\")\n",
    "        transcription = \" \".join([segment.text for segment in segments])\n",
    "        print(f\"Transcription: {transcription}\")\n",
    "        \n",
    "        print(\"Generating response...\")\n",
    "        response = \"हो, मी तुमचे ऐकले आहे. तुम्ही काय म्हणालात: \" + transcription\n",
    "        print(f\"Response: {response}\")\n",
    "        \n",
    "        print(\"Synthesizing speech...\")\n",
    "        with torch.no_grad():\n",
    "            inputs = self.processor(text=response, return_tensors=\"pt\")\n",
    "            speech = self.tts_model(\n",
    "                input_ids=inputs[\"input_ids\"].to(self.device)\n",
    "            ).waveform\n",
    "        \n",
    "        output_path = \"response.wav\"\n",
    "        torchaudio.save(output_path, speech.cpu(), 16000)\n",
    "        \n",
    "        end_time = time.time()\n",
    "        print(f\"Total processing time: {end_time - start_time:.2f} seconds\")\n",
    "        return output_path"
   ]
  },
  {
   "cell_type": "code",
   "execution_count": null,
   "metadata": {
    "execution": {
     "execution_failed": "2025-02-23T01:23:29.378Z",
     "iopub.execute_input": "2025-02-23T01:22:47.605337Z",
     "iopub.status.busy": "2025-02-23T01:22:47.604967Z"
    },
    "trusted": true
   },
   "outputs": [
    {
     "name": "stdout",
     "output_type": "stream",
     "text": [
      "Loading models...\n"
     ]
    },
    {
     "data": {
      "application/vnd.jupyter.widget-view+json": {
       "model_id": "4c07216079a1478d86ec0f38f8b4fd78",
       "version_major": 2,
       "version_minor": 0
      },
      "text/plain": [
       "config.json:   0%|          | 0.00/2.25k [00:00<?, ?B/s]"
      ]
     },
     "metadata": {},
     "output_type": "display_data"
    },
    {
     "data": {
      "application/vnd.jupyter.widget-view+json": {
       "model_id": "f968ca7a25904540a2bb8bd5dbaeec68",
       "version_major": 2,
       "version_minor": 0
      },
      "text/plain": [
       "vocabulary.txt:   0%|          | 0.00/460k [00:00<?, ?B/s]"
      ]
     },
     "metadata": {},
     "output_type": "display_data"
    },
    {
     "data": {
      "application/vnd.jupyter.widget-view+json": {
       "model_id": "0f01b61f1bf348baa93da62f76a0740d",
       "version_major": 2,
       "version_minor": 0
      },
      "text/plain": [
       "tokenizer.json:   0%|          | 0.00/2.20M [00:00<?, ?B/s]"
      ]
     },
     "metadata": {},
     "output_type": "display_data"
    },
    {
     "data": {
      "application/vnd.jupyter.widget-view+json": {
       "model_id": "9fd179cdc73143a59dc3c71c4e6f8fa6",
       "version_major": 2,
       "version_minor": 0
      },
      "text/plain": [
       "model.bin:   0%|          | 0.00/75.5M [00:00<?, ?B/s]"
      ]
     },
     "metadata": {},
     "output_type": "display_data"
    },
    {
     "data": {
      "application/vnd.jupyter.widget-view+json": {
       "model_id": "6401bd3e441c4d85a62f58dee1ee400b",
       "version_major": 2,
       "version_minor": 0
      },
      "text/plain": [
       "tokenizer_config.json:   0%|          | 0.00/289 [00:00<?, ?B/s]"
      ]
     },
     "metadata": {},
     "output_type": "display_data"
    },
    {
     "data": {
      "application/vnd.jupyter.widget-view+json": {
       "model_id": "d069eea3a4fa464d87775eb3a9894bd3",
       "version_major": 2,
       "version_minor": 0
      },
      "text/plain": [
       "config.json:   0%|          | 0.00/1.64k [00:00<?, ?B/s]"
      ]
     },
     "metadata": {},
     "output_type": "display_data"
    },
    {
     "data": {
      "application/vnd.jupyter.widget-view+json": {
       "model_id": "1b2dea35ca0c4d408a18d2d54decbad9",
       "version_major": 2,
       "version_minor": 0
      },
      "text/plain": [
       "vocab.json:   0%|          | 0.00/918 [00:00<?, ?B/s]"
      ]
     },
     "metadata": {},
     "output_type": "display_data"
    },
    {
     "data": {
      "application/vnd.jupyter.widget-view+json": {
       "model_id": "44ff15595b364af2b75a3f6b7b2e31e2",
       "version_major": 2,
       "version_minor": 0
      },
      "text/plain": [
       "special_tokens_map.json:   0%|          | 0.00/49.0 [00:00<?, ?B/s]"
      ]
     },
     "metadata": {},
     "output_type": "display_data"
    },
    {
     "data": {
      "application/vnd.jupyter.widget-view+json": {
       "model_id": "0ae084c2b7384e75bc19158b831dee8b",
       "version_major": 2,
       "version_minor": 0
      },
      "text/plain": [
       "model.safetensors:   0%|          | 0.00/145M [00:00<?, ?B/s]"
      ]
     },
     "metadata": {},
     "output_type": "display_data"
    },
    {
     "name": "stdout",
     "output_type": "stream",
     "text": [
      "Models loaded!\n",
      "Processing /kaggle/input/wav-exa/sample.wav\n",
      "Transcribing...\n"
     ]
    }
   ],
   "source": [
    "processor = MarathiWavProcessor()\n",
    "output_file = processor.process_wav(\"/kaggle/input/wav-exa/sample.wav\")\n",
    "print(f\"Response saved to: {output_file}\")"
   ]
  },
  {
   "cell_type": "code",
   "execution_count": null,
   "metadata": {
    "trusted": true
   },
   "outputs": [],
   "source": []
  }
 ],
 "metadata": {
  "kaggle": {
   "accelerator": "nvidiaTeslaT4",
   "dataSources": [
    {
     "datasetId": 6722903,
     "sourceId": 10826767,
     "sourceType": "datasetVersion"
    },
    {
     "datasetId": 6722907,
     "sourceId": 10826781,
     "sourceType": "datasetVersion"
    }
   ],
   "dockerImageVersionId": 30919,
   "isGpuEnabled": true,
   "isInternetEnabled": true,
   "language": "python",
   "sourceType": "notebook"
  },
  "kernelspec": {
   "display_name": "Python 3",
   "language": "python",
   "name": "python3"
  },
  "language_info": {
   "codemirror_mode": {
    "name": "ipython",
    "version": 3
   },
   "file_extension": ".py",
   "mimetype": "text/x-python",
   "name": "python",
   "nbconvert_exporter": "python",
   "pygments_lexer": "ipython3",
   "version": "3.10.12"
  }
 },
 "nbformat": 4,
 "nbformat_minor": 4
}
